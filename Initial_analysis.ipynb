{
 "cells": [
  {
   "cell_type": "markdown",
   "metadata": {},
   "source": [
    "#Capstone Project: Exploratory analysis. "
   ]
  },
  {
   "cell_type": "markdown",
   "metadata": {},
   "source": [
    "Add Project description. "
   ]
  },
  {
   "cell_type": "code",
   "execution_count": 2,
   "metadata": {
    "collapsed": true
   },
   "outputs": [],
   "source": [
    "%matplotlib inline"
   ]
  },
  {
   "cell_type": "code",
   "execution_count": 3,
   "metadata": {
    "collapsed": false
   },
   "outputs": [],
   "source": [
    "import numpy as np\n",
    "import pandas as pd\n",
    "import seaborn as sns\n",
    "import matplotlib.pyplot as plt\n",
    "from matplotlib import dates\n",
    "import datetime\n",
    "from dateutil import parser"
   ]
  },
  {
   "cell_type": "markdown",
   "metadata": {},
   "source": [
    "Read social media and sales datasets for clementine's. "
   ]
  },
  {
   "cell_type": "code",
   "execution_count": 4,
   "metadata": {
    "collapsed": false
   },
   "outputs": [],
   "source": [
    "# Create \"Analysis_Date\" as index column when reading the data and parse_dates = True. \n",
    "cl_sm = pd.read_csv(\"/Users/kevalshah/Keval_Backup/University/UChicago/Capstone Project/Data/clementine_social.csv\", index_col = \"Analysis_Date\", parse_dates=True)"
   ]
  },
  {
   "cell_type": "code",
   "execution_count": 5,
   "metadata": {
    "collapsed": false
   },
   "outputs": [
    {
     "data": {
      "text/html": [
       "<div style=\"max-height:1000px;max-width:1500px;overflow:auto;\">\n",
       "<table border=\"1\" class=\"dataframe\">\n",
       "  <thead>\n",
       "    <tr style=\"text-align: right;\">\n",
       "      <th></th>\n",
       "      <th>Blogs</th>\n",
       "      <th>Forums</th>\n",
       "      <th>Reviews</th>\n",
       "      <th>Facebook</th>\n",
       "      <th>Twitter</th>\n",
       "      <th>Comments</th>\n",
       "      <th>Google trends data</th>\n",
       "      <th>Total_mentions</th>\n",
       "    </tr>\n",
       "    <tr>\n",
       "      <th>Analysis_Date</th>\n",
       "      <th></th>\n",
       "      <th></th>\n",
       "      <th></th>\n",
       "      <th></th>\n",
       "      <th></th>\n",
       "      <th></th>\n",
       "      <th></th>\n",
       "      <th></th>\n",
       "    </tr>\n",
       "  </thead>\n",
       "  <tbody>\n",
       "    <tr>\n",
       "      <th>2010-01-03</th>\n",
       "      <td>  795</td>\n",
       "      <td> 285</td>\n",
       "      <td> 6</td>\n",
       "      <td> 0</td>\n",
       "      <td> 774</td>\n",
       "      <td> 0</td>\n",
       "      <td> 86</td>\n",
       "      <td> 1946</td>\n",
       "    </tr>\n",
       "    <tr>\n",
       "      <th>2010-01-10</th>\n",
       "      <td> 1166</td>\n",
       "      <td> 253</td>\n",
       "      <td> 3</td>\n",
       "      <td> 0</td>\n",
       "      <td> 661</td>\n",
       "      <td> 0</td>\n",
       "      <td> 65</td>\n",
       "      <td> 2148</td>\n",
       "    </tr>\n",
       "    <tr>\n",
       "      <th>2010-01-17</th>\n",
       "      <td>  692</td>\n",
       "      <td> 212</td>\n",
       "      <td> 4</td>\n",
       "      <td> 0</td>\n",
       "      <td> 595</td>\n",
       "      <td> 0</td>\n",
       "      <td> 73</td>\n",
       "      <td> 1576</td>\n",
       "    </tr>\n",
       "    <tr>\n",
       "      <th>2010-01-24</th>\n",
       "      <td>  638</td>\n",
       "      <td> 174</td>\n",
       "      <td> 2</td>\n",
       "      <td> 0</td>\n",
       "      <td> 664</td>\n",
       "      <td> 0</td>\n",
       "      <td> 65</td>\n",
       "      <td> 1543</td>\n",
       "    </tr>\n",
       "    <tr>\n",
       "      <th>2010-01-31</th>\n",
       "      <td>  670</td>\n",
       "      <td> 223</td>\n",
       "      <td> 3</td>\n",
       "      <td> 0</td>\n",
       "      <td> 416</td>\n",
       "      <td> 0</td>\n",
       "      <td> 46</td>\n",
       "      <td> 1358</td>\n",
       "    </tr>\n",
       "  </tbody>\n",
       "</table>\n",
       "</div>"
      ],
      "text/plain": [
       "               Blogs  Forums  Reviews  Facebook  Twitter  Comments  \\\n",
       "Analysis_Date                                                        \n",
       "2010-01-03       795     285        6         0      774         0   \n",
       "2010-01-10      1166     253        3         0      661         0   \n",
       "2010-01-17       692     212        4         0      595         0   \n",
       "2010-01-24       638     174        2         0      664         0   \n",
       "2010-01-31       670     223        3         0      416         0   \n",
       "\n",
       "               Google trends data  Total_mentions  \n",
       "Analysis_Date                                      \n",
       "2010-01-03                     86            1946  \n",
       "2010-01-10                     65            2148  \n",
       "2010-01-17                     73            1576  \n",
       "2010-01-24                     65            1543  \n",
       "2010-01-31                     46            1358  "
      ]
     },
     "execution_count": 5,
     "metadata": {},
     "output_type": "execute_result"
    }
   ],
   "source": [
    "cl_sm.head(5)"
   ]
  },
  {
   "cell_type": "code",
   "execution_count": 6,
   "metadata": {
    "collapsed": false
   },
   "outputs": [
    {
     "data": {
      "text/plain": [
       "pandas.tseries.index.DatetimeIndex"
      ]
     },
     "execution_count": 6,
     "metadata": {},
     "output_type": "execute_result"
    }
   ],
   "source": [
    "# Check the index column type for plots. \n",
    "type(cl_sm.index)"
   ]
  },
  {
   "cell_type": "code",
   "execution_count": 7,
   "metadata": {
    "collapsed": false
   },
   "outputs": [
    {
     "name": "stdout",
     "output_type": "stream",
     "text": [
      "<bound method DatetimeIndex.summary of <class 'pandas.tseries.index.DatetimeIndex'>\n",
      "[2010-01-03, ..., 2015-06-28]\n",
      "Length: 287, Freq: None, Timezone: None>\n"
     ]
    }
   ],
   "source": [
    "# Check the summary of index / Analysis date column for date range. \n",
    "print cl_sm.index.summary"
   ]
  },
  {
   "cell_type": "markdown",
   "metadata": {},
   "source": [
    "The social media data is weekly mentions across different social media sources such as Blogs, Forums, Reviews, Facebook, Twitter, Comments and Google trends for 'clementine' starting from the week of Jan, 03, 2010 through June, 28, 2015."
   ]
  },
  {
   "cell_type": "markdown",
   "metadata": {},
   "source": [
    " "
   ]
  },
  {
   "cell_type": "markdown",
   "metadata": {},
   "source": [
    "Plot Total social media mentions for the time series. "
   ]
  },
  {
   "cell_type": "code",
   "execution_count": 8,
   "metadata": {
    "collapsed": false
   },
   "outputs": [
    {
     "data": {
      "text/plain": [
       "[<matplotlib.lines.Line2D at 0x109685c10>]"
      ]
     },
     "execution_count": 8,
     "metadata": {},
     "output_type": "execute_result"
    },
    {
     "data": {
      "image/png": "[encoded data removed]",
      "text/plain": [
       "<matplotlib.figure.Figure at 0x100635e10>"
      ]
     },
     "metadata": {},
     "output_type": "display_data"
    }
   ],
   "source": [
    "plt.xlabel('Date')\n",
    "plt.ylabel('Total Mentions count')\n",
    "plt.title(\"Clementine mentions on social media\")\n",
    "plt.plot(cl_sm.index, cl_sm.Total_mentions)"
   ]
  },
  {
   "cell_type": "markdown",
   "metadata": {},
   "source": [
    "Read Sales data for clementine's across the United States."
   ]
  },
  {
   "cell_type": "code",
   "execution_count": 9,
   "metadata": {
    "collapsed": false
   },
   "outputs": [],
   "source": [
    "# Create \"Period\" as index column when reading the data and parse_dates = True. \n",
    "cl_sales = pd.read_csv(\"/Users/kevalshah/Keval_Backup/University/UChicago/Capstone Project/Data/clementine_sales.csv\", index_col=0, parse_dates=True)"
   ]
  },
  {
   "cell_type": "code",
   "execution_count": 10,
   "metadata": {
    "collapsed": false
   },
   "outputs": [
    {
     "data": {
      "text/html": [
       "<div style=\"max-height:1000px;max-width:1500px;overflow:auto;\">\n",
       "<table border=\"1\" class=\"dataframe\">\n",
       "  <thead>\n",
       "    <tr style=\"text-align: right;\">\n",
       "      <th></th>\n",
       "      <th>Scan Date</th>\n",
       "      <th>Geography</th>\n",
       "      <th>Product</th>\n",
       "      <th>Dollars</th>\n",
       "      <th>Volume</th>\n",
       "    </tr>\n",
       "    <tr>\n",
       "      <th>Period</th>\n",
       "      <th></th>\n",
       "      <th></th>\n",
       "      <th></th>\n",
       "      <th></th>\n",
       "      <th></th>\n",
       "    </tr>\n",
       "  </thead>\n",
       "  <tbody>\n",
       "    <tr>\n",
       "      <th>2010-01-09</th>\n",
       "      <td>  1/9/10</td>\n",
       "      <td> Total U.S. PROJ</td>\n",
       "      <td> Clementine</td>\n",
       "      <td> 27659559.52</td>\n",
       "      <td> 5541236.16</td>\n",
       "    </tr>\n",
       "    <tr>\n",
       "      <th>2010-01-16</th>\n",
       "      <td> 1/16/10</td>\n",
       "      <td> Total U.S. PROJ</td>\n",
       "      <td> Clementine</td>\n",
       "      <td> 25247902.25</td>\n",
       "      <td> 5035413.89</td>\n",
       "    </tr>\n",
       "    <tr>\n",
       "      <th>2010-01-23</th>\n",
       "      <td> 1/23/10</td>\n",
       "      <td> Total U.S. PROJ</td>\n",
       "      <td> Clementine</td>\n",
       "      <td> 25617282.71</td>\n",
       "      <td> 5052121.59</td>\n",
       "    </tr>\n",
       "    <tr>\n",
       "      <th>2010-01-30</th>\n",
       "      <td> 1/30/10</td>\n",
       "      <td> Total U.S. PROJ</td>\n",
       "      <td> Clementine</td>\n",
       "      <td> 17500256.96</td>\n",
       "      <td> 3249063.08</td>\n",
       "    </tr>\n",
       "    <tr>\n",
       "      <th>2010-02-06</th>\n",
       "      <td>  2/6/10</td>\n",
       "      <td> Total U.S. PROJ</td>\n",
       "      <td> Clementine</td>\n",
       "      <td> 20281201.02</td>\n",
       "      <td> 3909342.59</td>\n",
       "    </tr>\n",
       "  </tbody>\n",
       "</table>\n",
       "</div>"
      ],
      "text/plain": [
       "           Scan Date        Geography     Product      Dollars      Volume\n",
       "Period                                                                    \n",
       "2010-01-09    1/9/10  Total U.S. PROJ  Clementine  27659559.52  5541236.16\n",
       "2010-01-16   1/16/10  Total U.S. PROJ  Clementine  25247902.25  5035413.89\n",
       "2010-01-23   1/23/10  Total U.S. PROJ  Clementine  25617282.71  5052121.59\n",
       "2010-01-30   1/30/10  Total U.S. PROJ  Clementine  17500256.96  3249063.08\n",
       "2010-02-06    2/6/10  Total U.S. PROJ  Clementine  20281201.02  3909342.59"
      ]
     },
     "execution_count": 10,
     "metadata": {},
     "output_type": "execute_result"
    }
   ],
   "source": [
    "cl_sales.head(5)"
   ]
  },
  {
   "cell_type": "markdown",
   "metadata": {
    "collapsed": true
   },
   "source": [
    "Let's make some plots, exploratory analysis. "
   ]
  },
  {
   "cell_type": "code",
   "execution_count": 11,
   "metadata": {
    "collapsed": false
   },
   "outputs": [
    {
     "data": {
      "text/plain": [
       "Scan Date     object\n",
       "Geography     object\n",
       "Product       object\n",
       "Dollars      float64\n",
       "Volume       float64\n",
       "dtype: object"
      ]
     },
     "execution_count": 11,
     "metadata": {},
     "output_type": "execute_result"
    }
   ],
   "source": [
    "cl_sales.dtypes"
   ]
  },
  {
   "cell_type": "code",
   "execution_count": 12,
   "metadata": {
    "collapsed": false
   },
   "outputs": [
    {
     "data": {
      "text/plain": [
       "pandas.tseries.index.DatetimeIndex"
      ]
     },
     "execution_count": 12,
     "metadata": {},
     "output_type": "execute_result"
    }
   ],
   "source": [
    "# Check the index column type for plots. \n",
    "type(cl_sales.index)"
   ]
  },
  {
   "cell_type": "code",
   "execution_count": 13,
   "metadata": {
    "collapsed": false
   },
   "outputs": [
    {
     "name": "stdout",
     "output_type": "stream",
     "text": [
      "<bound method DatetimeIndex.summary of <class 'pandas.tseries.index.DatetimeIndex'>\n",
      "[2010-01-09, ..., 2014-12-27]\n",
      "Length: 260, Freq: None, Timezone: None>\n"
     ]
    }
   ],
   "source": [
    "# Check the summary of index / Period column for date range. \n",
    "print cl_sales.index.summary"
   ]
  },
  {
   "cell_type": "markdown",
   "metadata": {},
   "source": [
    "The sales data is weekly sales for clementine's across the United States, starting from the week of Jan, 09, 2010 through Dec, 27, 2014.\n",
    "\n",
    "Note: Refer to the Nielsen data collection methodology document for any questions on data collection, bias etc. "
   ]
  },
  {
   "cell_type": "markdown",
   "metadata": {},
   "source": [
    " "
   ]
  },
  {
   "cell_type": "markdown",
   "metadata": {},
   "source": [
    "Plot total sales for clementine on a time series plot. "
   ]
  },
  {
   "cell_type": "code",
   "execution_count": 14,
   "metadata": {
    "collapsed": false
   },
   "outputs": [
    {
     "data": {
      "text/plain": [
       "[<matplotlib.lines.Line2D at 0x109679690>]"
      ]
     },
     "execution_count": 14,
     "metadata": {},
     "output_type": "execute_result"
    },
    {
     "data": {
      "image/png": "[encoded data removed]",
      "text/plain": [
       "<matplotlib.figure.Figure at 0x109691350>"
      ]
     },
     "metadata": {},
     "output_type": "display_data"
    }
   ],
   "source": [
    "plt.xlabel('Date')\n",
    "plt.ylabel('Dollars (in 10 millions)')\n",
    "plt.title(\"Clementine Sales\")\n",
    "plt.plot(cl_sales.index, cl_sales.Dollars)"
   ]
  },
  {
   "cell_type": "markdown",
   "metadata": {
    "collapsed": true
   },
   "source": [
    "Incremental spikes in social media mentions during December - January period in 2011, 2012 and 2013.   \n",
    "\n",
    "There appears to be some seasonality in total sales for Clementine's. Sales tend to be drop significantly during June - July period for all the 4 years and pick up during Dec - Jan period which seems consistent with social media mentions.\n",
    "\n",
    "\n",
    "\n",
    "A few next steps to consider: \n",
    "    \n",
    "    1. Review time series materials / literature for exploratory data analysis. \n",
    "    2. There appears to be some seasonality in sales data. Look into smoothing / other time series techniques. \n",
    "    3. Linear regression in time series context. Model using different social media outlets as predictors and derive the coefficients to establish what predictors are important / have strong correlation. \n",
    "    4. At this stage, we're trying to determine the correlation between different social media outlets and sales. \n",
    "    5. Try using mpld3 to build interactive time series plots as opposed to static png's above. "
   ]
  },
  {
   "cell_type": "code",
   "execution_count": null,
   "metadata": {
    "collapsed": true
   },
   "outputs": [],
   "source": []
  }
 ],
 "metadata": {
  "kernelspec": {
   "display_name": "Python 2",
   "language": "python",
   "name": "python2"
  },
  "language_info": {
   "codemirror_mode": {
    "name": "ipython",
    "version": 2
   },
   "file_extension": ".py",
   "mimetype": "text/x-python",
   "name": "python",
   "nbconvert_exporter": "python",
   "pygments_lexer": "ipython2",
   "version": "2.7.10"
  }
 },
 "nbformat": 4,
 "nbformat_minor": 0
}
